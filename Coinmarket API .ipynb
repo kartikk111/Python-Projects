{
 "cells": [
  {
   "cell_type": "code",
   "execution_count": null,
   "id": "8de2440e",
   "metadata": {},
   "outputs": [],
   "source": [
    "from requests import Request, Session\n",
    "from requests.exceptions import ConnectionError, Timeout, TooManyRedirects\n",
    "import json\n",
    "\n",
    "url = 'https://pro-api.coinmarketcap.com/v1/cryptocurrency/listings/latest'\n",
    "parameters = {\n",
    "  'start':'1',\n",
    "  'limit':'5000',\n",
    "  'convert':'USD'\n",
    "}\n",
    "headers = {\n",
    "  'Accepts': 'application/json',\n",
    "  'X-CMC_PRO_API_KEY': 'd928bcc1-e04d-45f1-849d-843b3deeeff3',\n",
    "}\n",
    "\n",
    "session = Session()\n",
    "session.headers.update(headers)\n",
    "\n",
    "try:\n",
    "  response = session.get(url, params=parameters)\n",
    "  data = json.loads(response.text)\n",
    "  print(data)\n",
    "except (ConnectionError, Timeout, TooManyRedirects) as e:\n",
    "  print(e)"
   ]
  },
  {
   "cell_type": "code",
   "execution_count": null,
   "id": "a63f8830",
   "metadata": {},
   "outputs": [],
   "source": [
    "type(data)"
   ]
  },
  {
   "cell_type": "code",
   "execution_count": null,
   "id": "532454a3",
   "metadata": {},
   "outputs": [],
   "source": [
    "import pandas as pd\n",
    "pd.set_option('display.max_columns', None)\n",
    "pd.set_option('display.max_rows', None)\n",
    "global df\n",
    "global df2"
   ]
  },
  {
   "cell_type": "code",
   "execution_count": null,
   "id": "ed4f0349",
   "metadata": {},
   "outputs": [],
   "source": [
    "df = pd.json_normalize(data['data'])\n",
    "df['timestamp'] = pd.to_datetime('now')\n",
    "df\n",
    "\n",
    "if not os.path.isfile(r'C:\\Users\\alexf\\OneDrive\\Documents\\Python Scripts\\API.csv'):\n",
    "        #df.to_csv(r'C:\\Users\\alexf\\OneDrive\\Documents\\Python Scripts\\API.csv', header='column_names')\n",
    "    #else:\n",
    "        #df.to_csv(r'C:\\Users\\alexf\\OneDrive\\Documents\\Python Scripts\\API.csv', mode='a', header=False)"
   ]
  },
  {
   "cell_type": "code",
   "execution_count": null,
   "id": "b9e4ef8c",
   "metadata": {},
   "outputs": [],
   "source": [
    "def api_runner():\n",
    "    global df\n",
    "    global df2\n",
    "    url = 'https://pro-api.coinmarketcap.com/v1/cryptocurrency/listings/latest'\n",
    "    parameters = {\n",
    "      'start':'1',\n",
    "      'limit':'5000',\n",
    "      'convert':'USD'\n",
    "    }\n",
    "    headers = {\n",
    "      'Accepts': 'application/json',\n",
    "      'X-CMC_PRO_API_KEY': 'd928bcc1-e04d-45f1-849d-843b3deeeff3',\n",
    "    }\n",
    "\n",
    "    session = Session()\n",
    "    session.headers.update(headers)\n",
    "\n",
    "    try:\n",
    "      response = session.get(url, params=parameters)\n",
    "      data = json.loads(response.text)\n",
    "      print(data)\n",
    "    except (ConnectionError, Timeout, TooManyRedirects) as e:\n",
    "      print(e)\n",
    "    \n",
    "    df2 = pd.json_normalize(data['data'])\n",
    "    df2['timestamp'] = pd.to_datetime('now')\n",
    "    df = df.append(df2)"
   ]
  },
  {
   "cell_type": "code",
   "execution_count": null,
   "id": "889dc902",
   "metadata": {},
   "outputs": [],
   "source": [
    "import os\n",
    "from time import time\n",
    "from time import sleep\n",
    "\n",
    "for i in range(20):\n",
    "    api_runner()\n",
    "    print('API Runner executed successfully')\n",
    "    sleep(30) #rest for 20 minutes\n",
    "exit()"
   ]
  },
  {
   "cell_type": "code",
   "execution_count": null,
   "id": "ad693327",
   "metadata": {},
   "outputs": [],
   "source": [
    "df"
   ]
  },
  {
   "cell_type": "code",
   "execution_count": null,
   "id": "c7e9cb11",
   "metadata": {},
   "outputs": [],
   "source": [
    "df"
   ]
  },
  {
   "cell_type": "code",
   "execution_count": null,
   "id": "9dd3a053",
   "metadata": {},
   "outputs": [],
   "source": [
    "\n",
    "pd.set_option('display.float_format', lambda x: '%.5f' % x)"
   ]
  },
  {
   "cell_type": "code",
   "execution_count": null,
   "id": "4df7773b",
   "metadata": {},
   "outputs": [],
   "source": [
    "df\n"
   ]
  },
  {
   "cell_type": "code",
   "execution_count": null,
   "id": "587e500e",
   "metadata": {},
   "outputs": [],
   "source": [
    "df3 = df.groupby('name', sort=False)[['quote.USD.percent_change_1h','quote.USD.percent_change_24h','quote.USD.percent_change_7d','quote.USD.percent_change_30d','quote.USD.percent_change_60d','quote.USD.percent_change_90d']].mean()\n",
    "df3"
   ]
  },
  {
   "cell_type": "code",
   "execution_count": null,
   "id": "f640d249",
   "metadata": {},
   "outputs": [],
   "source": [
    "df4 = df3.stack()\n",
    "df4"
   ]
  },
  {
   "cell_type": "code",
   "execution_count": null,
   "id": "986d7225",
   "metadata": {},
   "outputs": [],
   "source": [
    "type(df4)"
   ]
  },
  {
   "cell_type": "code",
   "execution_count": null,
   "id": "688bb775",
   "metadata": {},
   "outputs": [],
   "source": [
    "df5 = df4.to_frame(name='values')\n",
    "df5"
   ]
  },
  {
   "cell_type": "code",
   "execution_count": null,
   "id": "3a4a4676",
   "metadata": {},
   "outputs": [],
   "source": [
    "df5.count()"
   ]
  },
  {
   "cell_type": "code",
   "execution_count": null,
   "id": "253a88b8",
   "metadata": {},
   "outputs": [],
   "source": [
    "index = pd.Index(range(29742))\n",
    "\n",
    "# Set the above DataFrame index object as the index\n",
    "# using set_index() function\n",
    "df6 = df5.reset_index()\n",
    "df6\n"
   ]
  },
  {
   "cell_type": "code",
   "execution_count": null,
   "id": "54d70913",
   "metadata": {},
   "outputs": [],
   "source": [
    "df7 = df6.rename(columns={'level_1': 'percent_change'})\n",
    "df7"
   ]
  },
  {
   "cell_type": "code",
   "execution_count": null,
   "id": "c741afab",
   "metadata": {},
   "outputs": [],
   "source": [
    "df7['percent_change'] = df7['percent_change'].replace(['quote.USD.percent_change_24h','quote.USD.percent_change_7d','quote.USD.percent_change_30d','quote.USD.percent_change_60d','quote.USD.percent_change_90d'],['24h','7d','30d','60d','90d'])\n",
    "df7"
   ]
  },
  {
   "cell_type": "code",
   "execution_count": null,
   "id": "4ae7c360",
   "metadata": {},
   "outputs": [],
   "source": [
    "import seaborn as sns\n",
    "import matplotlib.pyplot as plt"
   ]
  },
  {
   "cell_type": "code",
   "execution_count": null,
   "id": "006bd7b6",
   "metadata": {},
   "outputs": [],
   "source": [
    "sns.catplot(x='percent_change', y='values', hue='name', data=df7, kind='point')"
   ]
  },
  {
   "cell_type": "code",
   "execution_count": null,
   "id": "71a44715",
   "metadata": {},
   "outputs": [],
   "source": [
    "#Creating a dataframe with the columns required.\n",
    "\n",
    "df10 = df[['name','quote.USD.price','timestamp']]\n",
    "df10 = df10.query(\"name == 'Bitcoin'\")\n",
    "df10"
   ]
  },
  {
   "cell_type": "code",
   "execution_count": null,
   "id": "9e0a514b",
   "metadata": {},
   "outputs": [],
   "source": [
    "sns.set_theme(style=\"darkgrid\")\n",
    "\n",
    "sns.lineplot(x='timestamp', y='quote.USD.price', data = df10)"
   ]
  },
  {
   "cell_type": "code",
   "execution_count": null,
   "id": "7014c282",
   "metadata": {},
   "outputs": [],
   "source": []
  }
 ],
 "metadata": {
  "kernelspec": {
   "display_name": "Python 3 (ipykernel)",
   "language": "python",
   "name": "python3"
  },
  "language_info": {
   "codemirror_mode": {
    "name": "ipython",
    "version": 3
   },
   "file_extension": ".py",
   "mimetype": "text/x-python",
   "name": "python",
   "nbconvert_exporter": "python",
   "pygments_lexer": "ipython3",
   "version": "3.11.7"
  }
 },
 "nbformat": 4,
 "nbformat_minor": 5
}
